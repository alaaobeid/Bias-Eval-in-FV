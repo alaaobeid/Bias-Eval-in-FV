{
 "cells": [
  {
   "cell_type": "code",
   "execution_count": 1,
   "id": "257629e4",
   "metadata": {},
   "outputs": [],
   "source": [
    "from calc_fairness_metrics import calc_fairness_metrics\n",
    "import numpy as np\n",
    "from sklearn.metrics import auc"
   ]
  },
  {
   "cell_type": "code",
   "execution_count": 2,
   "id": "f1d04d09",
   "metadata": {},
   "outputs": [],
   "source": [
    "import pickle"
   ]
  },
  {
   "cell_type": "code",
   "execution_count": null,
   "id": "570eacab",
   "metadata": {
    "scrolled": false
   },
   "outputs": [],
   "source": [
    "with open('../dist_arc_rfw/dist_african_fr.pkl', 'rb') as f:  # Python 3: open(..., 'rb')\n",
    "        distances_african, labels_african = pickle.load(f)\n",
    "with open('../dist_arc_rfw/dist_asian_fr.pkl', 'rb') as f:  # Python 3: open(..., 'rb')\n",
    "        distances_asian, labels_asian = pickle.load(f)\n",
    "with open('../dist_arc_rfw/dist_caucasian_fr.pkl', 'rb') as f:  # Python 3: open(..., 'rb')\n",
    "        distances_caucasian, labels_caucasian = pickle.load(f)\n",
    "with open('../dist_arc_rfw/dist_indian_fr.pkl', 'rb') as f:  # Python 3: open(..., 'rb')\n",
    "        distances_indian, labels_indian = pickle.load(f)\n",
    "with open('../dist_arc_rfw/dist_full_arc_fr.pkl', 'rb') as f:  # Python 3: open(..., 'rb')\n",
    "        distances_full, labels_full = pickle.load(f)"
   ]
  },
  {
   "cell_type": "code",
   "execution_count": 6,
   "id": "ed7cba70",
   "metadata": {},
   "outputs": [
    {
     "name": "stdout",
     "output_type": "stream",
     "text": [
      "------------------------------------------------Single fold---------------------------------------\n",
      "Accuracy on CC: 0.0006+-0.0000\tPrecision 0.0006+-0.0000\tRecall 1.0000+-0.0000\tROC Area Under Curve: 1.0000\t\n",
      "fpr at tpr 0.95: 2.010457057307408e-06,  tpr at fpr 0.001: 0.995775497887749, tpr at fpr 0.0001: 0.9927579963789982\n",
      "At FNR = FPR: FNR = 0.0030175015087507543, FPR = 0.0027529858638062777\n",
      "------------------------------------------------Single fold---------------------------------------\n",
      "Accuracy on CC: 0.0006+-0.0000\tPrecision 0.0006+-0.0000\tRecall 1.0000+-0.0000\tROC Area Under Curve: 0.9998\t\n",
      "fpr at tpr 0.95: 1.951314698277965e-06,  tpr at fpr 0.001: 0.9923932124049152, tpr at fpr 0.0001: 0.9818607372732592\n",
      "At FNR = FPR: FNR = 0.003510825043885313, FPR = 0.003866855293754167\n",
      "------------------------------------------------Single fold---------------------------------------\n",
      "Accuracy on CC: 0.0006+-0.0000\tPrecision 0.0006+-0.0000\tRecall 1.0000+-0.0000\tROC Area Under Curve: 0.9999\t\n",
      "fpr at tpr 0.95: 3.993145100910104e-06,  tpr at fpr 0.001: 0.9958058717795086, tpr at fpr 0.0001: 0.9868184541641701\n",
      "At FNR = FPR: FNR = 0.0029958058717795086, FPR = 0.0030407799943430445\n",
      "------------------------------------------------Single fold---------------------------------------\n",
      "Accuracy on CC: 0.0006+-0.0000\tPrecision 0.0006+-0.0000\tRecall 1.0000+-0.0000\tROC Area Under Curve: 1.0000\t\n",
      "fpr at tpr 0.95: 0.0,  tpr at fpr 0.001: 0.9988045427375971, tpr at fpr 0.0001: 0.9964136282127914\n",
      "At FNR = FPR: FNR = 0.001195457262402869, FPR = 0.0011878818784602288\n"
     ]
    }
   ],
   "source": [
    "SER, MAPE, FDR, std_in_eer, std_in_SED = calc_fairness_metrics([distances_full,distances_african,distances_asian,distances_indian, distances_caucasian], [labels_full,labels_african,labels_asian,labels_indian, labels_caucasian])"
   ]
  },
  {
   "cell_type": "code",
   "execution_count": 7,
   "id": "b5369d79",
   "metadata": {},
   "outputs": [
    {
     "name": "stdout",
     "output_type": "stream",
     "text": [
      "SER:  7.937158324684645  MAPE:  182.4738880895987  FDR: 0.9971696450757506 STD in EER 0.0009203840976880049 STD in SED 1.1235954770689018\n"
     ]
    }
   ],
   "source": [
    "print(\"SER: \",SER,\" MAPE: \", MAPE, \" FDR:\", FDR, \" STD in EER:\", std_in_eer, \" STD in SED: \", std_in_SED)"
   ]
  }
 ],
 "metadata": {
  "kernelspec": {
   "display_name": "Python 3",
   "language": "python",
   "name": "python3"
  },
  "language_info": {
   "codemirror_mode": {
    "name": "ipython",
    "version": 3
   },
   "file_extension": ".py",
   "mimetype": "text/x-python",
   "name": "python",
   "nbconvert_exporter": "python",
   "pygments_lexer": "ipython3",
   "version": "3.7.10"
  }
 },
 "nbformat": 4,
 "nbformat_minor": 5
}
